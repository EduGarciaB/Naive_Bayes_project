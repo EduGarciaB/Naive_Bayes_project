{
    "cells": [
        {
            "cell_type": "markdown",
            "metadata": {},
            "source": [
                "# Explore here"
            ]
        },
        {
            "cell_type": "code",
            "execution_count": 1,
            "metadata": {},
            "outputs": [
                {
                    "data": {
                        "text/html": [
                            "<div>\n",
                            "<style scoped>\n",
                            "    .dataframe tbody tr th:only-of-type {\n",
                            "        vertical-align: middle;\n",
                            "    }\n",
                            "\n",
                            "    .dataframe tbody tr th {\n",
                            "        vertical-align: top;\n",
                            "    }\n",
                            "\n",
                            "    .dataframe thead th {\n",
                            "        text-align: right;\n",
                            "    }\n",
                            "</style>\n",
                            "<table border=\"1\" class=\"dataframe\">\n",
                            "  <thead>\n",
                            "    <tr style=\"text-align: right;\">\n",
                            "      <th></th>\n",
                            "      <th>package_name</th>\n",
                            "      <th>review</th>\n",
                            "      <th>polarity</th>\n",
                            "    </tr>\n",
                            "  </thead>\n",
                            "  <tbody>\n",
                            "    <tr>\n",
                            "      <th>0</th>\n",
                            "      <td>com.facebook.katana</td>\n",
                            "      <td>privacy at least put some option appear offli...</td>\n",
                            "      <td>0</td>\n",
                            "    </tr>\n",
                            "    <tr>\n",
                            "      <th>1</th>\n",
                            "      <td>com.facebook.katana</td>\n",
                            "      <td>messenger issues ever since the last update, ...</td>\n",
                            "      <td>0</td>\n",
                            "    </tr>\n",
                            "    <tr>\n",
                            "      <th>2</th>\n",
                            "      <td>com.facebook.katana</td>\n",
                            "      <td>profile any time my wife or anybody has more ...</td>\n",
                            "      <td>0</td>\n",
                            "    </tr>\n",
                            "    <tr>\n",
                            "      <th>3</th>\n",
                            "      <td>com.facebook.katana</td>\n",
                            "      <td>the new features suck for those of us who don...</td>\n",
                            "      <td>0</td>\n",
                            "    </tr>\n",
                            "    <tr>\n",
                            "      <th>4</th>\n",
                            "      <td>com.facebook.katana</td>\n",
                            "      <td>forced reload on uploading pic on replying co...</td>\n",
                            "      <td>0</td>\n",
                            "    </tr>\n",
                            "    <tr>\n",
                            "      <th>...</th>\n",
                            "      <td>...</td>\n",
                            "      <td>...</td>\n",
                            "      <td>...</td>\n",
                            "    </tr>\n",
                            "    <tr>\n",
                            "      <th>886</th>\n",
                            "      <td>com.rovio.angrybirds</td>\n",
                            "      <td>loved it i loooooooooooooovvved it because it...</td>\n",
                            "      <td>1</td>\n",
                            "    </tr>\n",
                            "    <tr>\n",
                            "      <th>887</th>\n",
                            "      <td>com.rovio.angrybirds</td>\n",
                            "      <td>all time legendary game the birthday party le...</td>\n",
                            "      <td>1</td>\n",
                            "    </tr>\n",
                            "    <tr>\n",
                            "      <th>888</th>\n",
                            "      <td>com.rovio.angrybirds</td>\n",
                            "      <td>ads are way to heavy listen to the bad review...</td>\n",
                            "      <td>0</td>\n",
                            "    </tr>\n",
                            "    <tr>\n",
                            "      <th>889</th>\n",
                            "      <td>com.rovio.angrybirds</td>\n",
                            "      <td>fun works perfectly well. ads aren't as annoy...</td>\n",
                            "      <td>1</td>\n",
                            "    </tr>\n",
                            "    <tr>\n",
                            "      <th>890</th>\n",
                            "      <td>com.rovio.angrybirds</td>\n",
                            "      <td>they're everywhere i see angry birds everywhe...</td>\n",
                            "      <td>1</td>\n",
                            "    </tr>\n",
                            "  </tbody>\n",
                            "</table>\n",
                            "<p>891 rows × 3 columns</p>\n",
                            "</div>"
                        ],
                        "text/plain": [
                            "             package_name                                             review  \\\n",
                            "0     com.facebook.katana   privacy at least put some option appear offli...   \n",
                            "1     com.facebook.katana   messenger issues ever since the last update, ...   \n",
                            "2     com.facebook.katana   profile any time my wife or anybody has more ...   \n",
                            "3     com.facebook.katana   the new features suck for those of us who don...   \n",
                            "4     com.facebook.katana   forced reload on uploading pic on replying co...   \n",
                            "..                    ...                                                ...   \n",
                            "886  com.rovio.angrybirds   loved it i loooooooooooooovvved it because it...   \n",
                            "887  com.rovio.angrybirds   all time legendary game the birthday party le...   \n",
                            "888  com.rovio.angrybirds   ads are way to heavy listen to the bad review...   \n",
                            "889  com.rovio.angrybirds   fun works perfectly well. ads aren't as annoy...   \n",
                            "890  com.rovio.angrybirds   they're everywhere i see angry birds everywhe...   \n",
                            "\n",
                            "     polarity  \n",
                            "0           0  \n",
                            "1           0  \n",
                            "2           0  \n",
                            "3           0  \n",
                            "4           0  \n",
                            "..        ...  \n",
                            "886         1  \n",
                            "887         1  \n",
                            "888         0  \n",
                            "889         1  \n",
                            "890         1  \n",
                            "\n",
                            "[891 rows x 3 columns]"
                        ]
                    },
                    "execution_count": 1,
                    "metadata": {},
                    "output_type": "execute_result"
                }
            ],
            "source": [
                "# Your code here\n",
                "import pandas as pd\n",
                "\n",
                "df_playstore = pd.read_csv ('/Users/luiseduardogarciablanco/Desktop/bootcamp/Naive Bayes/Naive_bayes_project/playstore_reviews.csv')\n",
                "df_playstore"
            ]
        },
        {
            "cell_type": "code",
            "execution_count": 2,
            "metadata": {},
            "outputs": [
                {
                    "data": {
                        "text/plain": [
                            "(891, 2)"
                        ]
                    },
                    "execution_count": 2,
                    "metadata": {},
                    "output_type": "execute_result"
                }
            ],
            "source": [
                "# Eliminar la columna 'package_name'\n",
                "df_playstore = df_playstore.drop(columns=['package_name'])\n",
                "\n",
                "# Mostrar las primeras filas del dataframe para asegurarnos de que la columna ha sido eliminada\n",
                "df_playstore.shape\n"
            ]
        },
        {
            "cell_type": "code",
            "execution_count": 3,
            "metadata": {},
            "outputs": [
                {
                    "data": {
                        "text/html": [
                            "<div>\n",
                            "<style scoped>\n",
                            "    .dataframe tbody tr th:only-of-type {\n",
                            "        vertical-align: middle;\n",
                            "    }\n",
                            "\n",
                            "    .dataframe tbody tr th {\n",
                            "        vertical-align: top;\n",
                            "    }\n",
                            "\n",
                            "    .dataframe thead th {\n",
                            "        text-align: right;\n",
                            "    }\n",
                            "</style>\n",
                            "<table border=\"1\" class=\"dataframe\">\n",
                            "  <thead>\n",
                            "    <tr style=\"text-align: right;\">\n",
                            "      <th></th>\n",
                            "      <th>review</th>\n",
                            "      <th>polarity</th>\n",
                            "    </tr>\n",
                            "  </thead>\n",
                            "  <tbody>\n",
                            "    <tr>\n",
                            "      <th>0</th>\n",
                            "      <td>privacy at least put some option appear offlin...</td>\n",
                            "      <td>0</td>\n",
                            "    </tr>\n",
                            "    <tr>\n",
                            "      <th>1</th>\n",
                            "      <td>messenger issues ever since the last update, i...</td>\n",
                            "      <td>0</td>\n",
                            "    </tr>\n",
                            "    <tr>\n",
                            "      <th>2</th>\n",
                            "      <td>profile any time my wife or anybody has more t...</td>\n",
                            "      <td>0</td>\n",
                            "    </tr>\n",
                            "    <tr>\n",
                            "      <th>3</th>\n",
                            "      <td>the new features suck for those of us who don'...</td>\n",
                            "      <td>0</td>\n",
                            "    </tr>\n",
                            "    <tr>\n",
                            "      <th>4</th>\n",
                            "      <td>forced reload on uploading pic on replying com...</td>\n",
                            "      <td>0</td>\n",
                            "    </tr>\n",
                            "  </tbody>\n",
                            "</table>\n",
                            "</div>"
                        ],
                        "text/plain": [
                            "                                              review  polarity\n",
                            "0  privacy at least put some option appear offlin...         0\n",
                            "1  messenger issues ever since the last update, i...         0\n",
                            "2  profile any time my wife or anybody has more t...         0\n",
                            "3  the new features suck for those of us who don'...         0\n",
                            "4  forced reload on uploading pic on replying com...         0"
                        ]
                    },
                    "execution_count": 3,
                    "metadata": {},
                    "output_type": "execute_result"
                }
            ],
            "source": [
                "#Eliminamos espacios y convertimos a minusculas el texto\n",
                "df_playstore[\"review\"] = df_playstore[\"review\"].str.strip().str.lower()\n",
                "df_playstore.head()"
            ]
        },
        {
            "cell_type": "code",
            "execution_count": 4,
            "metadata": {},
            "outputs": [],
            "source": [
                "# Dividir el conjunto de datos en características (X) y etiquetas (y)\n",
                "X = df_playstore['review']\n",
                "y = df_playstore['polarity']"
            ]
        },
        {
            "cell_type": "code",
            "execution_count": 5,
            "metadata": {},
            "outputs": [],
            "source": [
                "from sklearn.model_selection import train_test_split\n",
                "from sklearn.feature_extraction.text import CountVectorizer\n",
                "from sklearn.naive_bayes import MultinomialNB\n",
                "from sklearn.naive_bayes import GaussianNB\n",
                "from sklearn.naive_bayes import BernoulliNB\n",
                "from sklearn.metrics import accuracy_score, classification_report"
            ]
        },
        {
            "cell_type": "code",
            "execution_count": 10,
            "metadata": {},
            "outputs": [
                {
                    "name": "stdout",
                    "output_type": "stream",
                    "text": [
                        "X_train shape: (712,)\n",
                        "X_test shape: (179,)\n",
                        "y_train shape: (712,)\n",
                        "y_test shape: (179,)\n"
                    ]
                }
            ],
            "source": [
                "# Dividir los datos en conjuntos de entrenamiento y prueba\n",
                "X_train, X_test, y_train, y_test = train_test_split(X, y, test_size=0.2, random_state=42)\n",
                "\n",
                "# Mostrar las formas de los conjuntos de datos resultantes\n",
                "print(f'X_train shape: {X_train.shape}')\n",
                "print(f'X_test shape: {X_test.shape}')\n",
                "print(f'y_train shape: {y_train.shape}')\n",
                "print(f'y_test shape: {y_test.shape}')"
            ]
        },
        {
            "cell_type": "code",
            "execution_count": 11,
            "metadata": {},
            "outputs": [],
            "source": [
                "#Unicializamos CountVectorizer con stop_words predefinidas en inglés. Este vectorizador convierte las reseñas de texto en matrices de recuento de palabras\n",
                "\n",
                "from sklearn.feature_extraction.text import CountVectorizer\n",
                "\n",
                "# Crear una instancia de TfidfVectorizer para tener en cuenta la frecuencia inversa de los documentos\n",
                "vec_model = TfidfVectorizer(stop_words=\"english\", ngram_range=(1, 2))\n",
                "\n",
                "# Ajustar y transformar los datos de entrenamiento\n",
                "X_train_vec = vec_model.fit_transform(X_train).toarray()\n",
                "\n",
                "# Solo transformar los datos de prueba\n",
                "X_test_vec = vec_model.transform(X_test).toarray()"
            ]
        },
        {
            "cell_type": "code",
            "execution_count": 12,
            "metadata": {},
            "outputs": [
                {
                    "name": "stdout",
                    "output_type": "stream",
                    "text": [
                        "Best parameters for MultinomialNB: {'alpha': 0.1}\n",
                        "Best accuracy for MultinomialNB: 0.7809120457007781\n",
                        "Best parameters for BernoulliNB: {'alpha': 0.5}\n",
                        "Best accuracy for BernoulliNB: 0.7107061952132375\n"
                    ]
                }
            ],
            "source": [
                "\n",
                "from sklearn.model_selection import GridSearchCV\n",
                "\n",
                "# Definir el rango de hiperparámetros para MultinomialNB y BernoulliNB\n",
                "param_grid = {'alpha': [0.1, 0.5, 1.0, 5.0, 10.0]}\n",
                "\n",
                "# MultinomialNB\n",
                "multinomial_model = MultinomialNB()\n",
                "grid_search_multinomial = GridSearchCV(multinomial_model, param_grid, cv=5, scoring='accuracy')\n",
                "grid_search_multinomial.fit(X_train_vec, y_train)\n",
                "print(\"Best parameters for MultinomialNB:\", grid_search_multinomial.best_params_)\n",
                "print(\"Best accuracy for MultinomialNB:\", grid_search_multinomial.best_score_)\n",
                "\n",
                "# BernoulliNB\n",
                "bernoulli_model = BernoulliNB()\n",
                "grid_search_bernoulli = GridSearchCV(bernoulli_model, param_grid, cv=5, scoring='accuracy')\n",
                "grid_search_bernoulli.fit(X_train_vec, y_train)\n",
                "print(\"Best parameters for BernoulliNB:\", grid_search_bernoulli.best_params_)\n",
                "print(\"Best accuracy for BernoulliNB:\", grid_search_bernoulli.best_score_)"
            ]
        },
        {
            "cell_type": "code",
            "execution_count": 16,
            "metadata": {},
            "outputs": [
                {
                    "name": "stdout",
                    "output_type": "stream",
                    "text": [
                        "MultinomialNB Accuracy: 85.47%\n",
                        "MultinomialNB Classification Report:\n",
                        "               precision    recall  f1-score   support\n",
                        "\n",
                        "           0       0.86      0.95      0.90       126\n",
                        "           1       0.85      0.62      0.72        53\n",
                        "\n",
                        "    accuracy                           0.85       179\n",
                        "   macro avg       0.85      0.79      0.81       179\n",
                        "weighted avg       0.85      0.85      0.85       179\n",
                        "\n"
                    ]
                }
            ],
            "source": [
                "\n",
                "\n",
                "# Crear y entrenar el modelo MultinomialNB\n",
                "multinomial_model = MultinomialNB(alpha=0.1)\n",
                "multinomial_model.fit(X_train_vec, y_train)\n",
                "\n",
                "# Realizar predicciones y evaluar el modelo\n",
                "y_pred_multinomial = multinomial_model.predict(X_test_vec)\n",
                "accuracy_multinomial = accuracy_score(y_test, y_pred_multinomial)\n",
                "print(\"MultinomialNB Accuracy: {:.2f}%\".format(accuracy_multinomial * 100))\n",
                "print(\"MultinomialNB Classification Report:\\n\", classification_report(y_test, y_pred_multinomial))"
            ]
        },
        {
            "cell_type": "code",
            "execution_count": 17,
            "metadata": {},
            "outputs": [
                {
                    "name": "stdout",
                    "output_type": "stream",
                    "text": [
                        "BernoulliNB Accuracy: 75.42%\n",
                        "BernoulliNB Classification Report:\n",
                        "               precision    recall  f1-score   support\n",
                        "\n",
                        "           0       0.74      1.00      0.85       126\n",
                        "           1       1.00      0.17      0.29        53\n",
                        "\n",
                        "    accuracy                           0.75       179\n",
                        "   macro avg       0.87      0.58      0.57       179\n",
                        "weighted avg       0.82      0.75      0.69       179\n",
                        "\n"
                    ]
                }
            ],
            "source": [
                "# Crear y entrenar el modelo BernoulliNB\n",
                "bernoulli_model = BernoulliNB(alpha=0.5)\n",
                "bernoulli_model.fit(X_train_vec, y_train)\n",
                "\n",
                "# Realizar predicciones y evaluar el modelo\n",
                "y_pred_bernoulli = bernoulli_model.predict(X_test_vec)\n",
                "accuracy_bernoulli = accuracy_score(y_test, y_pred_bernoulli)\n",
                "print(\"BernoulliNB Accuracy: {:.2f}%\".format(accuracy_bernoulli * 100))\n",
                "print(\"BernoulliNB Classification Report:\\n\", classification_report(y_test, y_pred_bernoulli))"
            ]
        },
        {
            "cell_type": "code",
            "execution_count": 20,
            "metadata": {},
            "outputs": [
                {
                    "name": "stdout",
                    "output_type": "stream",
                    "text": [
                        "GaussianNB Accuracy: 82.12%\n",
                        "GaussianNB Classification Report:\n",
                        "               precision    recall  f1-score   support\n",
                        "\n",
                        "           0       0.85      0.91      0.88       126\n",
                        "           1       0.74      0.60      0.67        53\n",
                        "\n",
                        "    accuracy                           0.82       179\n",
                        "   macro avg       0.79      0.76      0.77       179\n",
                        "weighted avg       0.82      0.82      0.82       179\n",
                        "\n"
                    ]
                }
            ],
            "source": [
                "# Crear y entrenar el modelo GaussianNB\n",
                "gaussian_model = GaussianNB()\n",
                "gaussian_model.fit(X_train_vec, y_train)\n",
                "\n",
                "# Realizar predicciones y evaluar el modelo\n",
                "y_pred_gaussian = gaussian_model.predict(X_test_vec)\n",
                "accuracy_gaussian = accuracy_score(y_test, y_pred_gaussian)\n",
                "print(\"GaussianNB Accuracy: {:.2f}%\".format(accuracy_gaussian * 100))\n",
                "print(\"GaussianNB Classification Report:\\n\", classification_report(y_test, y_pred_gaussian))"
            ]
        },
        {
            "cell_type": "markdown",
            "metadata": {},
            "source": [
                "MultinomialNB funcionó bien para el problema porque es muy bueno para trabajar con datos de texto que han sido convertidos en números (como contar palabras). Es eficiente y rápido para entrenar, lo cual es genial cuando tienes muchos datos como estos. Además, el proceso de convertir las reseñas de texto en números (como eliminando palabras comunes y reduciendo palabras a su forma base) fue hecho de manera adecuada, lo que ayudó al modelo a entender mejor las reseñas y clasificarlas como positivas o negativas."
            ]
        }
    ],
    "metadata": {
        "kernelspec": {
            "display_name": "Python 3.8.13 64-bit ('3.8.13')",
            "language": "python",
            "name": "python3"
        },
        "language_info": {
            "codemirror_mode": {
                "name": "ipython",
                "version": 3
            },
            "file_extension": ".py",
            "mimetype": "text/x-python",
            "name": "python",
            "nbconvert_exporter": "python",
            "pygments_lexer": "ipython3",
            "version": "3.12.4"
        },
        "orig_nbformat": 4,
        "vscode": {
            "interpreter": {
                "hash": "110cc1dee26208153f2972f08a2ad52b6a56238dc66d48e87fb757ef2996db56"
            }
        }
    },
    "nbformat": 4,
    "nbformat_minor": 2
}
